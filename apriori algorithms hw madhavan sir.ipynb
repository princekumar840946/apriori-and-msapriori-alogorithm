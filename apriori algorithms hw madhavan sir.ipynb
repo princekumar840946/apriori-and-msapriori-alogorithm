{
  "nbformat": 4,
  "nbformat_minor": 0,
  "metadata": {
    "colab": {
      "name": "Apriori.ipynb",
      "provenance": [],
      "collapsed_sections": []
    },
    "kernelspec": {
      "name": "python3",
      "display_name": "Python 3"
    }
  },
  "cells": [
    {
      "cell_type": "code",
      "metadata": {
        "id": "NkiJKJf9CnJU",
        "colab_type": "code",
        "outputId": "89a5a288-69f3-4d03-f538-7c95b0a78ca6",
        "colab": {
          "base_uri": "https://localhost:8080/",
          "height": 286
        }
      },
      "source": [
        "pip install  mlxtend"
      ],
      "execution_count": 18,
      "outputs": [
        {
          "output_type": "stream",
          "text": [
            "Requirement already satisfied: mlxtend in /usr/local/lib/python3.6/dist-packages (0.14.0)\n",
            "Requirement already satisfied: scipy>=0.17 in /usr/local/lib/python3.6/dist-packages (from mlxtend) (1.4.1)\n",
            "Requirement already satisfied: scikit-learn>=0.18 in /usr/local/lib/python3.6/dist-packages (from mlxtend) (0.22.2.post1)\n",
            "Requirement already satisfied: setuptools in /usr/local/lib/python3.6/dist-packages (from mlxtend) (46.1.3)\n",
            "Requirement already satisfied: pandas>=0.17.1 in /usr/local/lib/python3.6/dist-packages (from mlxtend) (1.0.3)\n",
            "Requirement already satisfied: numpy>=1.10.4 in /usr/local/lib/python3.6/dist-packages (from mlxtend) (1.18.2)\n",
            "Requirement already satisfied: matplotlib>=1.5.1 in /usr/local/lib/python3.6/dist-packages (from mlxtend) (3.2.1)\n",
            "Requirement already satisfied: joblib>=0.11 in /usr/local/lib/python3.6/dist-packages (from scikit-learn>=0.18->mlxtend) (0.14.1)\n",
            "Requirement already satisfied: pytz>=2017.2 in /usr/local/lib/python3.6/dist-packages (from pandas>=0.17.1->mlxtend) (2018.9)\n",
            "Requirement already satisfied: python-dateutil>=2.6.1 in /usr/local/lib/python3.6/dist-packages (from pandas>=0.17.1->mlxtend) (2.8.1)\n",
            "Requirement already satisfied: kiwisolver>=1.0.1 in /usr/local/lib/python3.6/dist-packages (from matplotlib>=1.5.1->mlxtend) (1.2.0)\n",
            "Requirement already satisfied: cycler>=0.10 in /usr/local/lib/python3.6/dist-packages (from matplotlib>=1.5.1->mlxtend) (0.10.0)\n",
            "Requirement already satisfied: pyparsing!=2.0.4,!=2.1.2,!=2.1.6,>=2.0.1 in /usr/local/lib/python3.6/dist-packages (from matplotlib>=1.5.1->mlxtend) (2.4.7)\n",
            "Requirement already satisfied: six>=1.5 in /usr/local/lib/python3.6/dist-packages (from python-dateutil>=2.6.1->pandas>=0.17.1->mlxtend) (1.12.0)\n"
          ],
          "name": "stdout"
        }
      ]
    },
    {
      "cell_type": "code",
      "metadata": {
        "id": "CMbDfpd7LoJm",
        "colab_type": "code",
        "colab": {}
      },
      "source": [
        "import mlxtend\n",
        "import numpy as np\n",
        "import math\n",
        "import pandas as pd\n",
        "import os\n",
        "from mlxtend.preprocessing import TransactionEncoder\n",
        "from mlxtend.frequent_patterns import apriori"
      ],
      "execution_count": 0,
      "outputs": []
    },
    {
      "cell_type": "code",
      "metadata": {
        "id": "C3gfPJ2TXhE9",
        "colab_type": "code",
        "outputId": "9dcf7244-f2c1-4e12-cd4e-dddc78fdd71c",
        "colab": {
          "base_uri": "https://localhost:8080/",
          "height": 159
        }
      },
      "source": [
        "os.listdir()"
      ],
      "execution_count": 17,
      "outputs": [
        {
          "output_type": "execute_result",
          "data": {
            "text/plain": [
              "['.config',\n",
              " 'docword.kos.txt',\n",
              " 'vocab.nips.txt',\n",
              " 'docword.nips.txt',\n",
              " 'vocab.kos.txt',\n",
              " 'docword.enron.txt',\n",
              " 'vocab.enron.txt',\n",
              " 'sample_data']"
            ]
          },
          "metadata": {
            "tags": []
          },
          "execution_count": 17
        }
      ]
    },
    {
      "cell_type": "code",
      "metadata": {
        "id": "YR2TvsbADFeU",
        "colab_type": "code",
        "colab": {}
      },
      "source": [
        "PATH='' # Directory for all txt files"
      ],
      "execution_count": 0,
      "outputs": []
    },
    {
      "cell_type": "markdown",
      "metadata": {
        "id": "IS3Z1_L5DgfG",
        "colab_type": "text"
      },
      "source": [
        "# $Question$ $1$"
      ]
    },
    {
      "cell_type": "markdown",
      "metadata": {
        "id": "TdAhbHbTLx4p",
        "colab_type": "text"
      },
      "source": [
        "## Creating Dataset"
      ]
    },
    {
      "cell_type": "code",
      "metadata": {
        "id": "VE4fItMwNTJn",
        "colab_type": "code",
        "colab": {}
      },
      "source": [
        "def DatasetGeneration(word_directory,vocab_directory):\n",
        "  df=pd.read_csv(word_directory,header=None)\n",
        "\n",
        "  # Dropping first three values\n",
        "  d,w,nnz,df=(df.iloc[0],df.iloc[0],df.iloc[0],df.drop([0,1,2],axis=0))\n",
        "\n",
        "  # Reindexing\n",
        "  df.index=range(len(df))\n",
        "\n",
        "  # Loading Vocabulary dataset\n",
        "  df_vocab=pd.read_csv(vocab_directory,header=None)\n",
        "\n",
        "  df_vocab['wordid']=list(range(1,len(df_vocab)+1))\n",
        "\n",
        "\n",
        "  df['docid']=df[0].apply(lambda x: int(str(x).split()[0]))\n",
        "  df['wordid']=df[0].apply(lambda x: int(str(x).split()[1]))\n",
        "  df['count']=df[0].apply(lambda x: int(str(x).split()[2]))\n",
        "  df=df.drop(0,axis=1)\n",
        "\n",
        "\n",
        "  data=df.merge(df_vocab,on='wordid',how='left')\n",
        "  data.columns=list(data.columns[:-1])+['words']\n",
        "\n",
        "  #data.to_csv(f\"document_{word_directory.split('.')[1]}.csv\",index=False)  \n",
        "\n",
        "  return data"
      ],
      "execution_count": 0,
      "outputs": []
    },
    {
      "cell_type": "code",
      "metadata": {
        "id": "MUnUSO2yOOXI",
        "colab_type": "code",
        "colab": {
          "base_uri": "https://localhost:8080/",
          "height": 266
        },
        "outputId": "22ade6e5-feed-4f93-a795-14c8e7d80aed"
      },
      "source": [
        "#enron_words=DatasetGeneration(PATH+'docword.enron.txt',PATH+'vocab.enron.txt')\n",
        "nips_words=DatasetGeneration(PATH+'docword.nips.txt',PATH+'vocab.nips.txt')\n",
        "kos_words=DatasetGeneration(PATH+'docword.kos.txt',PATH+'vocab.kos.txt')\n",
        "print(nips_words)"
      ],
      "execution_count": 23,
      "outputs": [
        {
          "output_type": "stream",
          "text": [
            "        docid  wordid  count     words\n",
            "0           1       2      1       aaa\n",
            "1           1      39      1  abstract\n",
            "2           1      42      3       abu\n",
            "3           1      77      1   account\n",
            "4           1      95      1   achieve\n",
            "...       ...     ...    ...       ...\n",
            "746311   1500   12382      1     zemel\n",
            "746312   1500   12388      3     zhang\n",
            "746313   1500   12390      1  zhaoping\n",
            "746314   1500   12393      1     ziehe\n",
            "746315   1500   12414      1    zoubin\n",
            "\n",
            "[746316 rows x 4 columns]\n"
          ],
          "name": "stdout"
        }
      ]
    },
    {
      "cell_type": "markdown",
      "metadata": {
        "id": "Hzr7li1sDNoR",
        "colab_type": "text"
      },
      "source": [
        "# Imputing Null Values"
      ]
    },
    {
      "cell_type": "code",
      "metadata": {
        "id": "3QbDDAo01oj_",
        "colab_type": "code",
        "colab": {}
      },
      "source": [
        "#enron_words[enron_words['words'].isna()]='null'\n",
        "nips_words[nips_words['words'].isna()]='null'"
      ],
      "execution_count": 0,
      "outputs": []
    },
    {
      "cell_type": "markdown",
      "metadata": {
        "id": "bBP1pY6TDTg9",
        "colab_type": "text"
      },
      "source": [
        "# Deleting all those words which is present in only one transaction"
      ]
    },
    {
      "cell_type": "code",
      "metadata": {
        "id": "-Gyr5ORpzt3T",
        "colab_type": "code",
        "colab": {}
      },
      "source": [
        "x=nips_words.groupby(['words']).count()\n",
        "words=list(x[x['count']>1].index)\n",
        "nips_words=nips_words[nips_words['words'].isin(words)]"
      ],
      "execution_count": 0,
      "outputs": []
    },
    {
      "cell_type": "code",
      "metadata": {
        "id": "v1cYm1lQ5oD5",
        "colab_type": "code",
        "colab": {}
      },
      "source": [
        "x=enron_words.groupby(['words']).count()\n",
        "words=list(x[x['count']>1].index)\n",
        "enron_words=enron_words[enron_words['words'].isin(words)]"
      ],
      "execution_count": 0,
      "outputs": []
    },
    {
      "cell_type": "code",
      "metadata": {
        "id": "XGcGkkaVOz-0",
        "colab_type": "code",
        "colab": {}
      },
      "source": [
        "x=kos_words.groupby(['words']).count()\n",
        "words=list(x[x['count']>1].index)\n",
        "kos_words=kos_words[kos_words['words'].isin(words)]"
      ],
      "execution_count": 0,
      "outputs": []
    },
    {
      "cell_type": "markdown",
      "metadata": {
        "id": "Zo8Rgw91DbNv",
        "colab_type": "text"
      },
      "source": [
        "# Creating Transaction Data"
      ]
    },
    {
      "cell_type": "code",
      "metadata": {
        "id": "8-bezFFWTyOo",
        "colab_type": "code",
        "colab": {}
      },
      "source": [
        "kos_doc=list(kos_words.groupby(['docid'])['words'].apply(lambda x: list(x.unique())))\n",
        "nips_doc=list(nips_words.groupby(['docid'])['words'].apply(lambda x: list(x.unique())))\n",
        "#enron_doc=list(enron_words.groupby(['docid'])['words'].apply(lambda x: list(x.unique())))"
      ],
      "execution_count": 0,
      "outputs": []
    },
    {
      "cell_type": "code",
      "metadata": {
        "id": "XGF7qwZfDx2i",
        "colab_type": "code",
        "colab": {}
      },
      "source": [
        "def freqItemset(transaction,min_sup,itemset):\n",
        "  te=TransactionEncoder()\n",
        "  te_ary=te.fit(transaction).transform(transaction,sparse=True)\n",
        "  document=pd.DataFrame.sparse.from_spmatrix(te_ary,columns=te.columns_)\n",
        "\n",
        "  frequent=mlxtend.frequent_patterns.apriori(document,min_support=min_sup,use_colnames=True)\n",
        "  frequent_itemsets = apriori(document, min_support=min_sup, use_colnames=True)\n",
        "  frequent_itemsets['length'] = frequent_itemsets['itemsets'].apply(lambda x: len(x))\n",
        "  return frequent_itemsets[frequent_itemsets['length']==itemset]\n"
      ],
      "execution_count": 0,
      "outputs": []
    },
    {
      "cell_type": "code",
      "metadata": {
        "id": "9Zv35Bg3uB7O",
        "colab_type": "code",
        "colab": {
          "base_uri": "https://localhost:8080/",
          "height": 447
        },
        "outputId": "9e3b8595-3619-4aab-f048-bb62ef0de3e1"
      },
      "source": [
        "%%time\n",
        "freqItemset(nips_doc,0.6,3)"
      ],
      "execution_count": 26,
      "outputs": [
        {
          "output_type": "stream",
          "text": [
            "CPU times: user 7.49 s, sys: 11.8 ms, total: 7.5 s\n",
            "Wall time: 7.52 s\n"
          ],
          "name": "stdout"
        },
        {
          "output_type": "execute_result",
          "data": {
            "text/html": [
              "<div>\n",
              "<style scoped>\n",
              "    .dataframe tbody tr th:only-of-type {\n",
              "        vertical-align: middle;\n",
              "    }\n",
              "\n",
              "    .dataframe tbody tr th {\n",
              "        vertical-align: top;\n",
              "    }\n",
              "\n",
              "    .dataframe thead th {\n",
              "        text-align: right;\n",
              "    }\n",
              "</style>\n",
              "<table border=\"1\" class=\"dataframe\">\n",
              "  <thead>\n",
              "    <tr style=\"text-align: right;\">\n",
              "      <th></th>\n",
              "      <th>support</th>\n",
              "      <th>itemsets</th>\n",
              "      <th>length</th>\n",
              "    </tr>\n",
              "  </thead>\n",
              "  <tbody>\n",
              "    <tr>\n",
              "      <th>414</th>\n",
              "      <td>0.665556</td>\n",
              "      <td>(function, abstract, algorithm)</td>\n",
              "      <td>3</td>\n",
              "    </tr>\n",
              "    <tr>\n",
              "      <th>415</th>\n",
              "      <td>0.635576</td>\n",
              "      <td>(introduction, abstract, algorithm)</td>\n",
              "      <td>3</td>\n",
              "    </tr>\n",
              "    <tr>\n",
              "      <th>416</th>\n",
              "      <td>0.609594</td>\n",
              "      <td>(algorithm, abstract, learning)</td>\n",
              "      <td>3</td>\n",
              "    </tr>\n",
              "    <tr>\n",
              "      <th>417</th>\n",
              "      <td>0.600933</td>\n",
              "      <td>(model, abstract, algorithm)</td>\n",
              "      <td>3</td>\n",
              "    </tr>\n",
              "    <tr>\n",
              "      <th>418</th>\n",
              "      <td>0.625583</td>\n",
              "      <td>(abstract, network, algorithm)</td>\n",
              "      <td>3</td>\n",
              "    </tr>\n",
              "    <tr>\n",
              "      <th>...</th>\n",
              "      <td>...</td>\n",
              "      <td>...</td>\n",
              "      <td>...</td>\n",
              "    </tr>\n",
              "    <tr>\n",
              "      <th>1437</th>\n",
              "      <td>0.774151</td>\n",
              "      <td>(set, result, system)</td>\n",
              "      <td>3</td>\n",
              "    </tr>\n",
              "    <tr>\n",
              "      <th>1438</th>\n",
              "      <td>0.621586</td>\n",
              "      <td>(set, result, values)</td>\n",
              "      <td>3</td>\n",
              "    </tr>\n",
              "    <tr>\n",
              "      <th>1439</th>\n",
              "      <td>0.604264</td>\n",
              "      <td>(single, result, system)</td>\n",
              "      <td>3</td>\n",
              "    </tr>\n",
              "    <tr>\n",
              "      <th>1440</th>\n",
              "      <td>0.612258</td>\n",
              "      <td>(small, result, system)</td>\n",
              "      <td>3</td>\n",
              "    </tr>\n",
              "    <tr>\n",
              "      <th>1441</th>\n",
              "      <td>0.610260</td>\n",
              "      <td>(system, result, values)</td>\n",
              "      <td>3</td>\n",
              "    </tr>\n",
              "  </tbody>\n",
              "</table>\n",
              "<p>1028 rows × 3 columns</p>\n",
              "</div>"
            ],
            "text/plain": [
              "       support                             itemsets  length\n",
              "414   0.665556      (function, abstract, algorithm)       3\n",
              "415   0.635576  (introduction, abstract, algorithm)       3\n",
              "416   0.609594      (algorithm, abstract, learning)       3\n",
              "417   0.600933         (model, abstract, algorithm)       3\n",
              "418   0.625583       (abstract, network, algorithm)       3\n",
              "...        ...                                  ...     ...\n",
              "1437  0.774151                (set, result, system)       3\n",
              "1438  0.621586                (set, result, values)       3\n",
              "1439  0.604264             (single, result, system)       3\n",
              "1440  0.612258              (small, result, system)       3\n",
              "1441  0.610260             (system, result, values)       3\n",
              "\n",
              "[1028 rows x 3 columns]"
            ]
          },
          "metadata": {
            "tags": []
          },
          "execution_count": 26
        }
      ]
    },
    {
      "cell_type": "markdown",
      "metadata": {
        "id": "lwYMSaH3mamV",
        "colab_type": "text"
      },
      "source": [
        "# $Question$ $2$"
      ]
    },
    {
      "cell_type": "markdown",
      "metadata": {
        "id": "L24rJAmgmUtA",
        "colab_type": "text"
      },
      "source": [
        "## Multiple Minimum Support "
      ]
    },
    {
      "cell_type": "code",
      "metadata": {
        "id": "PbhwmiaqmHBi",
        "colab_type": "code",
        "colab": {}
      },
      "source": [
        "class multiple_minimum_support:\n",
        "\n",
        "  \"\"\" Custom Class for MS-Apriori Algorithm\n",
        "  \"\"\"\n",
        "\n",
        "  def __init__(self,dataset,alpha,lmbda,k,phi):\n",
        "    self.dataset=dataset\n",
        "    self.transactions=self.dataset['docid'].nunique() # No of transactions\n",
        "    self.dataset_doc=self.dataset.groupby(['docid'])['words'].apply(lambda x: list(x.unique()))\n",
        "    self.lmbda=lmbda # Parameter\n",
        "    self.alpha=alpha\n",
        "    self.k=k # integer k for k-itemset generation\n",
        "    self.phi=phi # upper bound for maximum support difference\n",
        "\n",
        "    self.vocab=self.dataset['words'].unique()\n",
        "    \n",
        "    self.MS=dict() # Stores all MIS values\n",
        "\n",
        "    self.support=dict(self.dataset.groupby(['words'])['docid'].count()/self.transactions)# DIctionary of all support counts\n",
        "\n",
        "    \"\"\"for i in self.vocab:\n",
        "      sup=self.dataset[self.dataset['words']==o]['docid'].nunique()/self.transactions\n",
        "      self.support[i]=sup\"\"\"\n",
        "    # Sorting ALl the support\n",
        "    self.MS_sorted=sorted(self.support,key=self.support.get)\n",
        "    \n",
        "\n",
        "    for i in self.MS_sorted:\n",
        "      self.MS[i]=self.lmbda*self.support[i]\n",
        "    \n",
        "    del self.MS_sorted\n",
        "\n",
        "    self.freqDataset=pd.DataFrame({'Item':[],'Support':[],'MIS':[],'Length':[]})\n",
        "\n",
        "    \n",
        "  \n",
        "  def count(self,x):\n",
        "    \"\"\" \n",
        "    Support Count for itemset x\n",
        "\n",
        "    \"\"\"\n",
        "    df=self.dataset[self.dataset['words'].isin(x)]\n",
        "    docids=df.groupby(['docid']).count()\n",
        "    docids=docids[docids['count']==len(x)]\n",
        "\n",
        "    return len(docids)/self.transactions\n",
        "\n",
        "  def sort(self,x):\n",
        "\n",
        "    \"\"\" sort values according to the mis values\n",
        "    \"\"\"\n",
        "    if self.MS[x[-2]]>self.MS[x[-1]]:\n",
        "      x[-2],x[-1]=x[-1],x[-2]\n",
        "    return x\n",
        "\n",
        "\n",
        "  def ms_apriori(self):\n",
        "\n",
        "\n",
        "    F1=[[i] for i in self.vocab if self.support[i]>=self.MS[i] and self.support[i]>self.alpha]\n",
        "    S1=[self.support[i[0]] for i in F1]\n",
        "    MS1=[self.MS[i[0]] for i in F1]\n",
        "    L1=[1]*len(F1)\n",
        "\n",
        "    temp=pd.DataFrame({'Item':F1,'Support':S1,'MIS':MS1,'Length':L1})\n",
        "    self.freqDataset=pd.concat([self.freqDataset,temp],axis=0)\n",
        "\n",
        "    del temp,S1,MS1,L1\n",
        "\n",
        "    for k in range(2,self.k+1):\n",
        "\n",
        "      if k==2:\n",
        "        C2=self.level2_candidate_generation()\n",
        "\n",
        "        F2=[i for i in C2 if self.count(i)>=self.MS[i[0]]]\n",
        "        S2=[self.count(i) for i in F2]\n",
        "        MS2=[self.MS[i[0]] for i in F2]\n",
        "        L2=[2]*len(F2)\n",
        "\n",
        "        temp=pd.DataFrame({'Item':F2,'Support':S2,'MIS':MS2,'Length':L2})\n",
        "        self.freqDataset=pd.concat([self.freqDataset,temp],axis=0)\n",
        "        del temp,S2,MS2,L2\n",
        "      else:\n",
        "        C=self.MScancidate_gen(self.freqDataset[self.freqDataset['Length']==(k-1)]['Item'])\n",
        "        F=[self.sort(i) for i in C if self.count(i)>=self.MS[i[0]]]\n",
        "        S=[self.count(i) for i in F]\n",
        "        MS=[self.MS[i[0]] for i in F]\n",
        "        L=[k]*(len(F))\n",
        "\n",
        "        temp=pd.DataFrame({'Item':F,'Support':S,'MIS':MS,'Length':L})\n",
        "        self.freqDataset=pd.concat([self.freqDataset,temp],axis=0)\n",
        "\n",
        "        del temp,S,MS,L\n",
        "  \n",
        "  \n",
        "  \n",
        "  def level2_candidate_generation(self):\n",
        "    C2=[]\n",
        "    vocab=self.freqDataset[['Item','MIS']]\n",
        "    vocab=vocab.sort_values(by='MIS')\n",
        "    vocab=vocab['Item'].apply(lambda x: x[0])\n",
        "\n",
        "    for i,l in enumerate(vocab):\n",
        "      if self.support[l]>=self.MS[l]:\n",
        "        for h in vocab[i+1:]:\n",
        "          if self.support[h]>=self.MS[l] and abs(self.support[h]-self.support[l])<=self.phi:\n",
        "            C2.append([l,h])\n",
        "    return C2\n",
        "\n",
        "  def MScancidate_gen(self,Fk):\n",
        "    CK=[]\n",
        "    for i,item_1 in enumerate(Fk):\n",
        "      for j,item_2 in enumerate(Fk[i+1:]):\n",
        "        if item_1[:-1]==item_2[:-2]:\n",
        "          x=self.freqDataset[self.freqDataset['Item'].isin(item_1)]['Support']\n",
        "          y=self.freqDataset[self.freqDataset['Item'].isin(item_2)]['Support']\n",
        "          if abs(x-y)<=self.phi:\n",
        "            c=item_1.copy()\n",
        "            c.append(item_2[-1])\n",
        "\n",
        "            if self.subset_chcek(c,Fk):\n",
        "              CK.append(c)\n",
        "    return CK\n",
        "\n",
        "\n",
        "  def subset_chcek(self,x,y):\n",
        "    \"\"\" x <- Candidate set\n",
        "        y <- Dataset\n",
        "    \"\"\"\n",
        "    not_ok=0\n",
        "    y=list(y)\n",
        "\n",
        "    for j in range(len(x)):\n",
        "      for k in range(j,len(x)):\n",
        "        if j==0 or self.MS[x[1]]==self.MS[x[0]]:\n",
        "          if [x[j],x[k]] not in y:\n",
        "            not_ok+=1\n",
        "            return False\n",
        "    return True\n",
        "\n",
        "  def __repr__(self):\n",
        "    return \"Frequent Itemset Generation Using Multiple Minimum Support\""
      ],
      "execution_count": 0,
      "outputs": []
    },
    {
      "cell_type": "code",
      "metadata": {
        "id": "vcKRYfDQTXPt",
        "colab_type": "code",
        "colab": {}
      },
      "source": [
        "mis=multiple_minimum_support(kos_words,0.2,0.2,k=2,phi=0.8)"
      ],
      "execution_count": 0,
      "outputs": []
    },
    {
      "cell_type": "code",
      "metadata": {
        "id": "i1zmX7iZTZ9F",
        "colab_type": "code",
        "outputId": "89d88a61-02df-4d28-bdcc-3956b39be6b1",
        "colab": {
          "base_uri": "https://localhost:8080/",
          "height": 52
        }
      },
      "source": [
        "%%time\n",
        "mis.ms_apriori()"
      ],
      "execution_count": 30,
      "outputs": [
        {
          "output_type": "stream",
          "text": [
            "CPU times: user 14.8 s, sys: 25.8 ms, total: 14.8 s\n",
            "Wall time: 14.9 s\n"
          ],
          "name": "stdout"
        }
      ]
    },
    {
      "cell_type": "code",
      "metadata": {
        "id": "F9jlYkUmsWIg",
        "colab_type": "code",
        "colab": {
          "base_uri": "https://localhost:8080/",
          "height": 411
        },
        "outputId": "5d623e5d-2537-429b-87d9-bea523d80ab1"
      },
      "source": [
        "mis.freqDataset"
      ],
      "execution_count": 31,
      "outputs": [
        {
          "output_type": "execute_result",
          "data": {
            "text/html": [
              "<div>\n",
              "<style scoped>\n",
              "    .dataframe tbody tr th:only-of-type {\n",
              "        vertical-align: middle;\n",
              "    }\n",
              "\n",
              "    .dataframe tbody tr th {\n",
              "        vertical-align: top;\n",
              "    }\n",
              "\n",
              "    .dataframe thead th {\n",
              "        text-align: right;\n",
              "    }\n",
              "</style>\n",
              "<table border=\"1\" class=\"dataframe\">\n",
              "  <thead>\n",
              "    <tr style=\"text-align: right;\">\n",
              "      <th></th>\n",
              "      <th>Item</th>\n",
              "      <th>Support</th>\n",
              "      <th>MIS</th>\n",
              "      <th>Length</th>\n",
              "    </tr>\n",
              "  </thead>\n",
              "  <tbody>\n",
              "    <tr>\n",
              "      <th>0</th>\n",
              "      <td>[administration]</td>\n",
              "      <td>0.231487</td>\n",
              "      <td>0.046297</td>\n",
              "      <td>1.0</td>\n",
              "    </tr>\n",
              "    <tr>\n",
              "      <th>1</th>\n",
              "      <td>[bush]</td>\n",
              "      <td>0.618950</td>\n",
              "      <td>0.123790</td>\n",
              "      <td>1.0</td>\n",
              "    </tr>\n",
              "    <tr>\n",
              "      <th>2</th>\n",
              "      <td>[general]</td>\n",
              "      <td>0.481924</td>\n",
              "      <td>0.096385</td>\n",
              "      <td>1.0</td>\n",
              "    </tr>\n",
              "    <tr>\n",
              "      <th>3</th>\n",
              "      <td>[house]</td>\n",
              "      <td>0.354227</td>\n",
              "      <td>0.070845</td>\n",
              "      <td>1.0</td>\n",
              "    </tr>\n",
              "    <tr>\n",
              "      <th>4</th>\n",
              "      <td>[iraq]</td>\n",
              "      <td>0.249271</td>\n",
              "      <td>0.049854</td>\n",
              "      <td>1.0</td>\n",
              "    </tr>\n",
              "    <tr>\n",
              "      <th>...</th>\n",
              "      <td>...</td>\n",
              "      <td>...</td>\n",
              "      <td>...</td>\n",
              "      <td>...</td>\n",
              "    </tr>\n",
              "    <tr>\n",
              "      <th>448</th>\n",
              "      <td>[democratic, general]</td>\n",
              "      <td>0.222449</td>\n",
              "      <td>0.085598</td>\n",
              "      <td>2.0</td>\n",
              "    </tr>\n",
              "    <tr>\n",
              "      <th>449</th>\n",
              "      <td>[democratic, bush]</td>\n",
              "      <td>0.273178</td>\n",
              "      <td>0.085598</td>\n",
              "      <td>2.0</td>\n",
              "    </tr>\n",
              "    <tr>\n",
              "      <th>450</th>\n",
              "      <td>[kerry, general]</td>\n",
              "      <td>0.310204</td>\n",
              "      <td>0.093994</td>\n",
              "      <td>2.0</td>\n",
              "    </tr>\n",
              "    <tr>\n",
              "      <th>451</th>\n",
              "      <td>[kerry, bush]</td>\n",
              "      <td>0.348397</td>\n",
              "      <td>0.093994</td>\n",
              "      <td>2.0</td>\n",
              "    </tr>\n",
              "    <tr>\n",
              "      <th>452</th>\n",
              "      <td>[general, bush]</td>\n",
              "      <td>0.364431</td>\n",
              "      <td>0.096385</td>\n",
              "      <td>2.0</td>\n",
              "    </tr>\n",
              "  </tbody>\n",
              "</table>\n",
              "<p>484 rows × 4 columns</p>\n",
              "</div>"
            ],
            "text/plain": [
              "                      Item   Support       MIS  Length\n",
              "0         [administration]  0.231487  0.046297     1.0\n",
              "1                   [bush]  0.618950  0.123790     1.0\n",
              "2                [general]  0.481924  0.096385     1.0\n",
              "3                  [house]  0.354227  0.070845     1.0\n",
              "4                   [iraq]  0.249271  0.049854     1.0\n",
              "..                     ...       ...       ...     ...\n",
              "448  [democratic, general]  0.222449  0.085598     2.0\n",
              "449     [democratic, bush]  0.273178  0.085598     2.0\n",
              "450       [kerry, general]  0.310204  0.093994     2.0\n",
              "451          [kerry, bush]  0.348397  0.093994     2.0\n",
              "452        [general, bush]  0.364431  0.096385     2.0\n",
              "\n",
              "[484 rows x 4 columns]"
            ]
          },
          "metadata": {
            "tags": []
          },
          "execution_count": 31
        }
      ]
    },
    {
      "cell_type": "code",
      "metadata": {
        "id": "Z37Z4xtU3KPA",
        "colab_type": "code",
        "colab": {}
      },
      "source": [
        ""
      ],
      "execution_count": 0,
      "outputs": []
    }
  ]
}